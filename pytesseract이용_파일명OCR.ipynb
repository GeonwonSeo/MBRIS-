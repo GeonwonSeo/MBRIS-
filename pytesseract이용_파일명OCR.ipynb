{
  "nbformat": 4,
  "nbformat_minor": 0,
  "metadata": {
    "colab": {
      "provenance": [],
      "authorship_tag": "ABX9TyMH8klE2aRig17Ud45ei9Cu",
      "include_colab_link": true
    },
    "kernelspec": {
      "name": "python3",
      "display_name": "Python 3"
    },
    "language_info": {
      "name": "python"
    }
  },
  "cells": [
    {
      "cell_type": "markdown",
      "metadata": {
        "id": "view-in-github",
        "colab_type": "text"
      },
      "source": [
        "<a href=\"https://colab.research.google.com/github/GeonwonSeo/MBRIS-/blob/main/pytesseract%EC%9D%B4%EC%9A%A9_%ED%8C%8C%EC%9D%BC%EB%AA%85OCR.ipynb\" target=\"_parent\"><img src=\"https://colab.research.google.com/assets/colab-badge.svg\" alt=\"Open In Colab\"/></a>"
      ]
    },
    {
      "cell_type": "code",
      "source": [
        "from google.colab import drive\n",
        "drive.mount('/content/drive',force_remount=True)"
      ],
      "metadata": {
        "colab": {
          "base_uri": "https://localhost:8080/"
        },
        "id": "RkE8VafDdz0_",
        "outputId": "8f2b6a71-be4c-4823-e387-e56a1bbd1713"
      },
      "execution_count": null,
      "outputs": [
        {
          "output_type": "stream",
          "name": "stdout",
          "text": [
            "Mounted at /content/drive\n"
          ]
        }
      ]
    },
    {
      "cell_type": "code",
      "source": [
        "!sudo apt install tesseract-ocr\n",
        "!pip install pytesseract"
      ],
      "metadata": {
        "colab": {
          "base_uri": "https://localhost:8080/"
        },
        "id": "FP616BkBernm",
        "outputId": "8441fb9e-66d8-445d-f5e7-bf52fbb31eab",
        "collapsed": true
      },
      "execution_count": null,
      "outputs": [
        {
          "output_type": "stream",
          "name": "stdout",
          "text": [
            "Reading package lists... Done\n",
            "Building dependency tree... Done\n",
            "Reading state information... Done\n",
            "The following additional packages will be installed:\n",
            "  tesseract-ocr-eng tesseract-ocr-osd\n",
            "The following NEW packages will be installed:\n",
            "  tesseract-ocr tesseract-ocr-eng tesseract-ocr-osd\n",
            "0 upgraded, 3 newly installed, 0 to remove and 49 not upgraded.\n",
            "Need to get 4,816 kB of archives.\n",
            "After this operation, 15.6 MB of additional disk space will be used.\n",
            "Get:1 http://archive.ubuntu.com/ubuntu jammy/universe amd64 tesseract-ocr-eng all 1:4.00~git30-7274cfa-1.1 [1,591 kB]\n",
            "Get:2 http://archive.ubuntu.com/ubuntu jammy/universe amd64 tesseract-ocr-osd all 1:4.00~git30-7274cfa-1.1 [2,990 kB]\n",
            "Get:3 http://archive.ubuntu.com/ubuntu jammy/universe amd64 tesseract-ocr amd64 4.1.1-2.1build1 [236 kB]\n",
            "Fetched 4,816 kB in 1s (3,277 kB/s)\n",
            "debconf: unable to initialize frontend: Dialog\n",
            "debconf: (No usable dialog-like program is installed, so the dialog based frontend cannot be used. at /usr/share/perl5/Debconf/FrontEnd/Dialog.pm line 78, <> line 3.)\n",
            "debconf: falling back to frontend: Readline\n",
            "debconf: unable to initialize frontend: Readline\n",
            "debconf: (This frontend requires a controlling tty.)\n",
            "debconf: falling back to frontend: Teletype\n",
            "dpkg-preconfigure: unable to re-open stdin: \n",
            "Selecting previously unselected package tesseract-ocr-eng.\n",
            "(Reading database ... 123634 files and directories currently installed.)\n",
            "Preparing to unpack .../tesseract-ocr-eng_1%3a4.00~git30-7274cfa-1.1_all.deb ...\n",
            "Unpacking tesseract-ocr-eng (1:4.00~git30-7274cfa-1.1) ...\n",
            "Selecting previously unselected package tesseract-ocr-osd.\n",
            "Preparing to unpack .../tesseract-ocr-osd_1%3a4.00~git30-7274cfa-1.1_all.deb ...\n",
            "Unpacking tesseract-ocr-osd (1:4.00~git30-7274cfa-1.1) ...\n",
            "Selecting previously unselected package tesseract-ocr.\n",
            "Preparing to unpack .../tesseract-ocr_4.1.1-2.1build1_amd64.deb ...\n",
            "Unpacking tesseract-ocr (4.1.1-2.1build1) ...\n",
            "Setting up tesseract-ocr-eng (1:4.00~git30-7274cfa-1.1) ...\n",
            "Setting up tesseract-ocr-osd (1:4.00~git30-7274cfa-1.1) ...\n",
            "Setting up tesseract-ocr (4.1.1-2.1build1) ...\n",
            "Processing triggers for man-db (2.10.2-1) ...\n",
            "Collecting pytesseract\n",
            "  Downloading pytesseract-0.3.13-py3-none-any.whl.metadata (11 kB)\n",
            "Requirement already satisfied: packaging>=21.3 in /usr/local/lib/python3.10/dist-packages (from pytesseract) (24.2)\n",
            "Requirement already satisfied: Pillow>=8.0.0 in /usr/local/lib/python3.10/dist-packages (from pytesseract) (11.0.0)\n",
            "Downloading pytesseract-0.3.13-py3-none-any.whl (14 kB)\n",
            "Installing collected packages: pytesseract\n",
            "Successfully installed pytesseract-0.3.13\n"
          ]
        }
      ]
    },
    {
      "cell_type": "code",
      "source": [
        "pwd"
      ],
      "metadata": {
        "colab": {
          "base_uri": "https://localhost:8080/",
          "height": 35
        },
        "id": "WCaRUtHGd-yO",
        "outputId": "a7ced71c-d671-498b-ee2c-824f841fad71"
      },
      "execution_count": null,
      "outputs": [
        {
          "output_type": "execute_result",
          "data": {
            "text/plain": [
              "'/content'"
            ],
            "application/vnd.google.colaboratory.intrinsic+json": {
              "type": "string"
            }
          },
          "metadata": {},
          "execution_count": 36
        }
      ]
    },
    {
      "cell_type": "code",
      "source": [
        "import pytesseract\n",
        "import cv2\n",
        "import os\n",
        "from PIL import Image\n",
        "from google.colab.patches import cv2_imshow\n",
        "import glob\n",
        "from tqdm import tqdm\n",
        "import re\n",
        "\n",
        "def find_mabik_strings(text_list):\n",
        "  mabik_strings = []\n",
        "  for text in text_list:\n",
        "    if 'MABIK' in text:\n",
        "      mabik_strings.append(text)\n",
        "  return mabik_strings\n",
        "\n",
        "#이미지를 불러와 gray 스케일로 변환\n",
        "date = '\\(24.12.26\\)'\n",
        "source_folder = f'/content/drive/MyDrive/해양생물자원관/표본{date}/'\n",
        "output_zip = f'/content/drive/MyDrive/해양생물자원관/표본{date}.zip'\n",
        "image_folder = source_folder\n",
        "filenames = sorted(glob.glob(image_folder + '*.jpg'))\n",
        "for i, filename in enumerate(tqdm(filenames)): # 모든 JPG 파일 찾기\n",
        "  image = cv2.imread(filename) # 이미지 읽어오기\n",
        "  gray = cv2.cvtColor(image, cv2.COLOR_BGR2GRAY)\n",
        "  #pytesseract에서는 numpy array를 읽지 못하고 file을 읽기 때문에 os로 파일을 불러들여야 한다.\n",
        "  filename = \"{}.png\".format(os.getpid())\n",
        "  cv2.imwrite(filename, gray)\n",
        "  #pytesseract의 image to string을 써준다.\n",
        "  text = pytesseract.image_to_string(Image.open(filename), lang = None)\n",
        "  os.remove(filename)\n",
        "\n",
        "  #결과\n",
        "  # cv2_imshow(image)\n",
        "  text = text.split('\\n')\n",
        "  if i % 2 ==0:\n",
        "    try:\n",
        "      k = find_mabik_strings(text)[0]\n",
        "      k = k.replace('o','0' ).replace('O','0').replace('Q','0')\n",
        "      match = re.search(r\"MABIK\\sAL\\d+\", k)\n",
        "      if match:\n",
        "          k = match.group(0)\n",
        "      cv2.imwrite(f'/content/drive/MyDrive/해양생물자원관/test/result/{k}.jpg', image)\n",
        "    except IndexError:\n",
        "      print(filenames[i])\n",
        "      print(filename)\n",
        "  else:\n",
        "    cv2.imwrite(f'/content/drive/MyDrive/해양생물자원관/test/result/{k}_.jpg', image)\n",
        "\n"
      ],
      "metadata": {
        "id": "h1NYX0mJdQnn",
        "colab": {
          "base_uri": "https://localhost:8080/"
        },
        "outputId": "2a8f43bb-8207-4cb3-aa45-8279c3e0bd91"
      },
      "execution_count": null,
      "outputs": [
        {
          "output_type": "stream",
          "name": "stderr",
          "text": [
            " 32%|███▏      | 7/22 [00:30<00:59,  3.98s/it]"
          ]
        },
        {
          "output_type": "stream",
          "name": "stdout",
          "text": [
            "/content/drive/MyDrive/해양생물자원관/표본(24.12.26)/20241230_095147.jpg\n",
            "156.png\n"
          ]
        },
        {
          "output_type": "stream",
          "name": "stderr",
          "text": [
            "100%|██████████| 22/22 [01:34<00:00,  4.31s/it]\n"
          ]
        }
      ]
    },
    {
      "cell_type": "code",
      "source": [
        "\n",
        "#(는 특수문자로 입력불가로 \"\"로 감싸야함\n",
        "#!zip -O cp949 -r /content/drive/MyDrive/해양생물자원관/표본\"(24.12.26)\".zip /content/drive/MyDrive/해양생물자원관/test/result/\n",
        "!zip -r /content/drive/MyDrive/해양생물자원관/표본\"(24.12.26)\".zip /content/drive/MyDrive/해양생물자원관/test/result/"
      ],
      "metadata": {
        "colab": {
          "base_uri": "https://localhost:8080/"
        },
        "id": "f76QOfr7pbIk",
        "outputId": "7b37eec8-5ac9-42eb-8bd7-ef09f060cbaa"
      },
      "execution_count": null,
      "outputs": [
        {
          "output_type": "stream",
          "name": "stdout",
          "text": [
            "  adding: content/drive/MyDrive/해양생물자원관/test/result/ (stored 0%)\n",
            "  adding: content/drive/MyDrive/해양생물자원관/test/result/Ul0trichaceae MABIK ¢< AL00018189.jpg (deflated 0%)\n",
            "  adding: content/drive/MyDrive/해양생물자원관/test/result/Ul0trichaceae MABIK ¢< AL00018189_.jpg (deflated 1%)\n",
            "  adding: content/drive/MyDrive/해양생물자원관/test/result/MABIK AL00054271.jpg (deflated 0%)\n",
            "  adding: content/drive/MyDrive/해양생물자원관/test/result/MABIK AL00054271_.jpg (deflated 0%)\n",
            "  adding: content/drive/MyDrive/해양생물자원관/test/result/MABIK AL00003334.jpg (deflated 0%)\n",
            "  adding: content/drive/MyDrive/해양생물자원관/test/result/MABIK AL00003334_.jpg (deflated 0%)\n",
            "  adding: content/drive/MyDrive/해양생물자원관/test/result/MABIK AL00027606.jpg (deflated 0%)\n",
            "  adding: content/drive/MyDrive/해양생물자원관/test/result/MABIK AL00027606_.jpg (deflated 0%)\n",
            "  adding: content/drive/MyDrive/해양생물자원관/test/result/MABIK AL00042223.jpg (deflated 0%)\n",
            "  adding: content/drive/MyDrive/해양생물자원관/test/result/MABIK AL00042223_.jpg (deflated 0%)\n",
            "  adding: content/drive/MyDrive/해양생물자원관/test/result/MABIK AL00043343.jpg (deflated 0%)\n",
            "  adding: content/drive/MyDrive/해양생물자원관/test/result/MABIK AL00043343_.jpg (deflated 0%)\n",
            "  adding: content/drive/MyDrive/해양생물자원관/test/result/MABIK AL00043344.jpg (deflated 0%)\n",
            "  adding: content/drive/MyDrive/해양생물자원관/test/result/MABIK AL00043344_.jpg (deflated 0%)\n",
            "  adding: content/drive/MyDrive/해양생물자원관/test/result/MABIK AL00043345.jpg (deflated 0%)\n",
            "  adding: content/drive/MyDrive/해양생물자원관/test/result/MABIK AL00043345_.jpg (deflated 0%)\n",
            "  adding: content/drive/MyDrive/해양생물자원관/test/result/MABIK AL00061126.jpg (deflated 0%)\n",
            "  adding: content/drive/MyDrive/해양생물자원관/test/result/MABIK AL00061126_.jpg (deflated 0%)\n"
          ]
        }
      ]
    },
    {
      "cell_type": "code",
      "source": [
        "!unzip /content/drive/MyDrive/해양생물자원관/"
      ],
      "metadata": {
        "id": "Ht2akoBIk-JV"
      },
      "execution_count": null,
      "outputs": []
    }
  ]
}